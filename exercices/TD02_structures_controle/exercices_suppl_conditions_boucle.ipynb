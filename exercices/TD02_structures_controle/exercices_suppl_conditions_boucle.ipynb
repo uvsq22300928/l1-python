{
 "cells": [
  {
   "cell_type": "markdown",
   "metadata": {},
   "source": [
    "## Exercices supplémentaires (structures conditionnelles)\n",
    "\n",
    "**Exercice 1:**\n",
    "\n",
    "Ecrire un programme qui calcule la valeur absolue d'un nombre sans utiliser la fonction 'abs'.\n",
    "#\n",
    "**Exercice 2:**\n",
    "\n",
    "Ecrire un programme qui affiche le maximum de trois nombres entiers sans utiliser la fonction 'max'. Essayer d'utiliser le moins de conditions 'if' possible.\n",
    "\n",
    "Faire la même chose avec le minimum, et avec le deuxième maximum (la valeur la plus grande qui n'est pas le maximum).\n",
    "\n",
    "**Exercice 3:**\n",
    "\n",
    "Ecrire un programme qui calcule le multiple de 5 le plus proche d'un nombre n donné.\n",
    "Donner au moins une méthode n'utilisant pas de fonctions prédéfinies du langage.\n",
    "\n",
    "**Exercice 4:**\n",
    "\n",
    "Ecrire un programme qui demande à l'utilisateur 2 nombres entiers et un opérateur mathématique (+, -, *, /,...) et qui affiche le résultat de l'opération correspondante.\n",
    "\n",
    "**Exercice 5:**\n",
    "\n",
    "Ecrire un programme qui demande à l'utilisateur de donner un horaire sous la forme XYhZT où X, Y, Z, T sont des entiers.\n",
    "Le programme doit afficher un message d'erreur si l'horaire n'est pas valide.\n",
    "\n",
    "Donner deux versions pour le programme, l'une où vous avez le droit d'utiliser les méthodes spécifiques des chaînes de caractères (find(), upper(), etc...) et l'autre non.\n",
    "\n",
    "**Exercice 6:**\n",
    "Soit le tableau suivant:\n",
    "\n",
    "|Age          | Genre | Salaire/jour |\n",
    "|-------------|-------|--------------|\n",
    "|>= 18 et < 30|   H   |    700       |\n",
    "|             |   F   |    750       |\n",
    "|>= 30 et < 40|   H   |    800       |\n",
    "|             |   F   |    850       |\n",
    "\n",
    "Ecrire un programme qui demande l'âge, le genre et le nombre de jours travaillés, et affiche le salaire correspondant. Si l'âge ne figure pas dans l'intervalle, alors le programme affiche le message suivant: \"donner un âge approprié\".\n",
    "\n",
    "**Exercice 7:**\n",
    "\n",
    "Ecrire un programme qui demande à l'utilisateur les longueurs des trois côtés d'un triangle et vérifie si le triangle est possible ou non.\n",
    "\n",
    "## Exercices supplémentaires (structures itératives)\n",
    "\n",
    "**Exercice 8**\n",
    "\n",
    "Ecrire un programme qui demande à l'utilisateur une chaîne de caractères et l'affiche écrite à l'envers.Par exemple si l'utilisateur écrit *vache*, le programme doit afficher *ehcav*\n",
    "\n",
    "**Exercice 9**\n",
    "\n",
    "Soient deux chaînes de caractères $s_1$ et $s_2$. Ecrire un programme qui crée une nouvelle chaîne de caractères $s_3$ composée du premier caractère de $s_1$, puis du dernier de $s_2$, puis du deuxième caractère de $s_1$, puis de l'avant-dernier caractère de $s_2$, etc. \n",
    "\n",
    "**Exercice 10**\n",
    "\n",
    "Ecrire un programme qui permet d’afficher les entiers de 1 à 100 qui sont des multiples de 7 ; s’ils sont en plus des multiples de 4 alors on affichera une étoile derrière. On doit obtenir l’affichage suivant : 7 14 21 28 * 35 42 49 56 * 63 70 77 84 * 91 98\n",
    "\n",
    "**Exercice 11**\n",
    "\n",
    "Ecrire un programme qui permet de vérifier la validité d'un mot de passe saisi par l'utilisateur.\n",
    "\n",
    "Le mot de passe doit comporter:\n",
    "* Au moins une lettre entre [a-z] et une lettre entre [A-Z]\n",
    "* Au moins un chiffre entre [0-9].\n",
    "* Au moins un caractère de cette liste [$#@].\n",
    "* Au minimum 6 caractères.\n",
    "* Au maximum 16 caractères.\n",
    "\n",
    "**Exercice 12**\n",
    "\n",
    "Ecrire un programme qui affiche tous les nombres entre 100 et 400 (inclus) dans lesquels tous les chiffres sont impairs. \n",
    "\n",
    "**Exercice 13**\n",
    "\n",
    "Ecrire un programme qui affiche le dessin suivant:\n",
    "```\n",
    "  ****                                                                  \n",
    " *                                                                      \n",
    " *                                                                      \n",
    "  ***                                                                   \n",
    "     *                                                                  \n",
    "     *                                                                  \n",
    " **** \n",
    "```\n",
    "\n",
    "**Exercice 14 (difficile)**\n",
    "\n",
    "L’« International Standard Book Number » (ISBN) est un code à dix chiffres qui identifie de manière unique un livre. Le chiffre le plus à droite de ce code est la somme de contrôle ([Wikipedia](https://fr.wikipedia.org/wiki/Somme_de_contr%C3%B4le)) : il est calculé, de manière unique, à partir des valeurs des neuf autres chiffres. Sa valeur est telle que $d_1+2d_2+3d_3+...+10d_{10}$ soit un multiple de 11 (ici $i$ représente la valeur du ième chiffre du code, en partant de la droite).\n",
    "\n",
    "Exemple. La *somme de contrôle* du code commençant par 020131452 est 5 puisque 5 est la seule valeur de $x$ comprise entre 0 et 10 (exclu) telle que \n",
    "$10 \\times 0+9 \\times 2+8 \\times 0+7 \\times 1+6 \\times 3+5 \\times 1+4 \\times 4+3 \\times 5+2 \\times 2+1 \\times x$\n",
    "soit un multiple de 11.\n",
    "\n",
    "Écrire un programme qui demande à l’utilisateur les 9 premiers chiffres d’un code ISBN et qui affiche le code ISBN sous forme d’une chaîne de caractères."
   ]
  },
  {
   "cell_type": "code",
   "execution_count": 2,
   "metadata": {},
   "outputs": [
    {
     "name": "stdout",
     "output_type": "stream",
     "text": [
      "2.0\n"
     ]
    }
   ],
   "source": [
    "#exercice 1\n",
    "\n",
    "import math\n",
    "\n",
    "abs = int(input(\"choisir un nombre entier ? \"))\n",
    "abs = abs**2\n",
    "abs = math.sqrt(abs)\n",
    "print(abs)"
   ]
  },
  {
   "cell_type": "code",
   "execution_count": 7,
   "metadata": {},
   "outputs": [
    {
     "name": "stdout",
     "output_type": "stream",
     "text": [
      "98372\n",
      "1\n"
     ]
    }
   ],
   "source": [
    "#exercice 2\n",
    "\n",
    "def maximum(liste):\n",
    "    maxi = liste[0]\n",
    "    for i in liste:\n",
    "        if i >= maxi:\n",
    "            maxi = i\n",
    "    return maxi\n",
    "\n",
    "def minimum(liste):\n",
    "    mini = liste[0]\n",
    "    for i in liste:\n",
    "        if i <= mini:\n",
    "            mini = i\n",
    "    return mini\n",
    "\n",
    "print(maximum([1,40,5,2,66,98372,45]))\n",
    "print(minimum([1,40,5,2,66,98372,45]))"
   ]
  },
  {
   "cell_type": "code",
   "execution_count": null,
   "metadata": {},
   "outputs": [],
   "source": [
    "#exercice 3"
   ]
  }
 ],
 "metadata": {
  "kernelspec": {
   "display_name": "Python 3.9.7 ('l1-python')",
   "language": "python",
   "name": "python3"
  },
  "language_info": {
   "codemirror_mode": {
    "name": "ipython",
    "version": 3
   },
   "file_extension": ".py",
   "mimetype": "text/x-python",
   "name": "python",
   "nbconvert_exporter": "python",
   "pygments_lexer": "ipython3",
   "version": "3.11.4"
  },
  "orig_nbformat": 4,
  "vscode": {
   "interpreter": {
    "hash": "7d87edbe593bf1e4e96623606fa487dbb5c6e9299b74648cb83b1cd8ad219f97"
   }
  }
 },
 "nbformat": 4,
 "nbformat_minor": 2
}
