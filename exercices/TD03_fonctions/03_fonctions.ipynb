{
 "cells": [
  {
   "cell_type": "markdown",
   "metadata": {},
   "source": [
    "# Instructions Générales\n",
    "\n",
    "Ce TD est à faire en créant un fichier td3.py, que vous éditerez dans VSCode. \n",
    "Vous ne remplirez pas les cellules de ce notebook, mais vous les copierez au fur et à mesure \n",
    "dans votre fichier pour les compléter.\n",
    "\n",
    "Vous respecterez au mieux les règles d'écriture de code, en particulier chaque fonction devra avoir un **docstring** et des commentaires si nécessaire et les noms de variable seront illustratifs de leur usage. Vous utiliserez les outils de débogage (flake8, mypy, debugger, pythontutor ...) pour corriger vos bogues."
   ]
  },
  {
   "cell_type": "markdown",
   "metadata": {},
   "source": [
    "# Gestion du temps\n",
    "\n",
    "Nous allons créer un petit logiciel de gestion du temps et des dates.\n",
    "Pour cela nous aurons besoin de créer un certain nombre de fonctions utilitaires.\n",
    "\n",
    "Un temps a le format suivant: (jour: int, heure: int, minute: int, seconde: int).\n",
    "C'est un tuple de 4 éléments. Par exemple (4, 3, 13, 20) correspond à 4 jours, 3 heures, 13 minutes et 20 secondes.\n",
    "Si on a une variable temps = (4, 3, 13, 20), pour accéder au premier élément on fait temps\\[0\\] ce qui donne 4,\n",
    "le nombre de jours.\n",
    "\n",
    "Créer la fonction qui prend comme argument le temps et renvoie le nombre de seconde total correspondant à ce temps.\n",
    "Créer la fonction qui prend un nombre de secondes et renvoie le temps correspondant."
   ]
  },
  {
   "cell_type": "code",
   "execution_count": 2,
   "metadata": {},
   "outputs": [
    {
     "name": "stdout",
     "output_type": "stream",
     "text": [
      "<class 'tuple'>\n",
      "342094\n",
      "1 jours 3 heures 46 minutes 40 secondes\n"
     ]
    }
   ],
   "source": [
    "#temps[0] : jours, temps[1]: heures, temps[2]: minutes, temps[3]: secondes\n",
    "\n",
    "def tempsEnSeconde(temps):\n",
    "    \"\"\" Renvoie la valeur en seconde de temps donné comme jour, heure, minute, seconde.\"\"\"\n",
    "    jours = ((temps[0]*24)*60)*60\n",
    "    heures = (temps[1]*60)*60\n",
    "    minutes = temps[2]*60\n",
    "    secondes = temps[3]\n",
    "    tempsTotaleSecondes = jours + heures + minutes + secondes\n",
    "    return tempsTotaleSecondes\n",
    "\n",
    "temps = (3,23,1,34)\n",
    "print(type(temps))\n",
    "print(tempsEnSeconde(temps))   \n",
    "\n",
    "def secondeEnTemps(seconde):\n",
    "    \"\"\"Renvoie le temps (jour, heure, minute, seconde) qui correspond au nombre de seconde passé en argument\"\"\"\n",
    "    jours = seconde/86400\n",
    "    heures = (jours%1)*24\n",
    "    minutes = (heures%1)*60\n",
    "    secondes = (minutes%1)*60\n",
    "    \n",
    "    temps=(int(jours),int(heures),int(minutes),int(secondes))\n",
    "    return temps\n",
    "    \n",
    "temps = secondeEnTemps(100000)\n",
    "print(temps[0],\"jours\",temps[1],\"heures\",temps[2],\"minutes\",temps[3],\"secondes\") \n",
    "\n"
   ]
  },
  {
   "cell_type": "markdown",
   "metadata": {},
   "source": [
    "Créer une fonction d'affichage d'un temps `afficheTemps`. Attention, les mots jour, heure et seconde doivent être au pluriel s'il y en a plusieurs. S'il y en a zéro, ils ne doivent pas apparaître.\n",
    "`print(message, end=\"\")` permet de ne pas sauter une ligne après un print. \n",
    "Vous pouvez écrire une fonction qui affiche un mot au pluriel ou non, appelée ensuite plusieurs fois par `afficheTemps` pour simplifier votre code.\n"
   ]
  },
  {
   "cell_type": "code",
   "execution_count": 3,
   "metadata": {},
   "outputs": [
    {
     "name": "stdout",
     "output_type": "stream",
     "text": [
      "1 jour 14 minutes 23 secondes "
     ]
    }
   ],
   "source": [
    "#fonction auxiliaire ici\n",
    "\n",
    "def afficheTemps(temps):\n",
    "    nomSingulier=(\"jour\",\"heure\",\"minute\",\"seconde\")\n",
    "    nomPluriel=(\"jours\",\"heures\",\"minutes\",\"secondes\")\n",
    "    for i in range(len(temps)):\n",
    "        if temps[i] == 0:\n",
    "            print(\"\", end=\"\")\n",
    "        elif temps[i] == 1:\n",
    "            print(temps[i],nomSingulier[i], end=\" \")\n",
    "        else:\n",
    "            print(temps[i],nomPluriel[i], end=\" \")\n",
    "        \n",
    "afficheTemps((1,0,14,23))\n"
   ]
  },
  {
   "cell_type": "markdown",
   "metadata": {},
   "source": [
    "Ecrire une fonction qui demande à l'utilisateur de rentrer un nombre de jours, d'heures, de minutes et\n",
    "de secondes et qui renvoie un temps. Attention, si l'entrée utilisateur n'est pas correcte, par exemple 80 minutes,\n",
    "afficher un message d'erreur et s'arrêter.\n",
    "\n",
    "(Optionnel) Au lieu d'arêter le programme, demander de rentrer une nouvelle valeur, tant que \n",
    "ce n'est pas une valeur correcte."
   ]
  },
  {
   "cell_type": "code",
   "execution_count": 4,
   "metadata": {},
   "outputs": [
    {
     "ename": "ValueError",
     "evalue": "invalid literal for int() with base 10: ''",
     "output_type": "error",
     "traceback": [
      "\u001b[1;31m---------------------------------------------------------------------------\u001b[0m",
      "\u001b[1;31mValueError\u001b[0m                                Traceback (most recent call last)",
      "\u001b[1;32mc:\\Users\\chapo\\Documents\\Ecole\\IN100\\l1-python\\exercices\\TD03_fonctions\\03_fonctions.ipynb Cell 7\u001b[0m line \u001b[0;36m2\n\u001b[0;32m     <a href='vscode-notebook-cell:/c%3A/Users/chapo/Documents/Ecole/IN100/l1-python/exercices/TD03_fonctions/03_fonctions.ipynb#W6sZmlsZQ%3D%3D?line=15'>16</a>\u001b[0m     temps\u001b[39m=\u001b[39m(jour,heure,minute,seconde)\n\u001b[0;32m     <a href='vscode-notebook-cell:/c%3A/Users/chapo/Documents/Ecole/IN100/l1-python/exercices/TD03_fonctions/03_fonctions.ipynb#W6sZmlsZQ%3D%3D?line=16'>17</a>\u001b[0m     \u001b[39mreturn\u001b[39;00m temps\n\u001b[1;32m---> <a href='vscode-notebook-cell:/c%3A/Users/chapo/Documents/Ecole/IN100/l1-python/exercices/TD03_fonctions/03_fonctions.ipynb#W6sZmlsZQ%3D%3D?line=19'>20</a>\u001b[0m afficheTemps(demandeTemps())\n",
      "\u001b[1;32mc:\\Users\\chapo\\Documents\\Ecole\\IN100\\l1-python\\exercices\\TD03_fonctions\\03_fonctions.ipynb Cell 7\u001b[0m line \u001b[0;36m2\n\u001b[0;32m      <a href='vscode-notebook-cell:/c%3A/Users/chapo/Documents/Ecole/IN100/l1-python/exercices/TD03_fonctions/03_fonctions.ipynb#W6sZmlsZQ%3D%3D?line=0'>1</a>\u001b[0m \u001b[39mdef\u001b[39;00m \u001b[39mdemandeTemps\u001b[39m():\n\u001b[1;32m----> <a href='vscode-notebook-cell:/c%3A/Users/chapo/Documents/Ecole/IN100/l1-python/exercices/TD03_fonctions/03_fonctions.ipynb#W6sZmlsZQ%3D%3D?line=1'>2</a>\u001b[0m     jour\u001b[39m=\u001b[39m\u001b[39mint\u001b[39m(\u001b[39minput\u001b[39m(\u001b[39m\"\u001b[39m\u001b[39mCombien de jour(s) ? \u001b[39m\u001b[39m\"\u001b[39m))\n\u001b[0;32m      <a href='vscode-notebook-cell:/c%3A/Users/chapo/Documents/Ecole/IN100/l1-python/exercices/TD03_fonctions/03_fonctions.ipynb#W6sZmlsZQ%3D%3D?line=2'>3</a>\u001b[0m     heure\u001b[39m=\u001b[39m\u001b[39mint\u001b[39m(\u001b[39minput\u001b[39m(\u001b[39m\"\u001b[39m\u001b[39mCombien d\u001b[39m\u001b[39m'\u001b[39m\u001b[39mheure(s) ? \u001b[39m\u001b[39m\"\u001b[39m))\n\u001b[0;32m      <a href='vscode-notebook-cell:/c%3A/Users/chapo/Documents/Ecole/IN100/l1-python/exercices/TD03_fonctions/03_fonctions.ipynb#W6sZmlsZQ%3D%3D?line=3'>4</a>\u001b[0m     \u001b[39mwhile\u001b[39;00m (heure\u001b[39m>\u001b[39m\u001b[39m=\u001b[39m\u001b[39m24\u001b[39m):\n",
      "\u001b[1;31mValueError\u001b[0m: invalid literal for int() with base 10: ''"
     ]
    }
   ],
   "source": [
    "def demandeTemps():\n",
    "    jour=int(input(\"Combien de jour(s) ? \"))\n",
    "    heure=int(input(\"Combien d'heure(s) ? \"))\n",
    "    while (heure>=24):\n",
    "        print(\"rentré une valeur valide\")\n",
    "        heure=int(input(\"Combien d'heure(s) ? \"))\n",
    "    minute=int(input(\"Combien de minute(s) ? \"))\n",
    "    while (minute>=60):\n",
    "        print(\"rentré une valeur valide\")\n",
    "        minute=int(input(\"Combien de minute(s) ? \"))\n",
    "    seconde=int(input(\"Combien de seconde(s) ? \"))\n",
    "    while (seconde>=60):\n",
    "        print(\"rentré une valeur valide\")\n",
    "        seconde=int(input(\"Combien de seconde(s) ? \"))\n",
    "    \n",
    "    temps=(jour,heure,minute,seconde)\n",
    "    return temps\n",
    "\n",
    "\n",
    "afficheTemps(demandeTemps())\n"
   ]
  },
  {
   "cell_type": "markdown",
   "metadata": {},
   "source": [
    "On veut être capable d'additionner deux temps. Donner une fonction qui fait ce calcul,\n",
    "en utilisant les fonctions précédentes."
   ]
  },
  {
   "cell_type": "code",
   "execution_count": 5,
   "metadata": {},
   "outputs": [
    {
     "data": {
      "text/plain": [
       "(8, 2, 1, 26)"
      ]
     },
     "execution_count": 5,
     "metadata": {},
     "output_type": "execute_result"
    }
   ],
   "source": [
    "def sommeTemps(temps1,temps2):\n",
    "    temps1=tempsEnSeconde(temps1)\n",
    "    temps2=tempsEnSeconde(temps2)\n",
    "    tempsTotal=temps1+temps2\n",
    "    tempsTotal=secondeEnTemps(tempsTotal)\n",
    "    return tempsTotal\n",
    "\n",
    "sommeTemps((2,3,4,25),(5,22,57,1))\n"
   ]
  },
  {
   "cell_type": "markdown",
   "metadata": {},
   "source": [
    "On veut maintenant calculer un pourcentage d'un temps. Par exemple, 20% de\n",
    "2 jours et 36 minutes correspond à 9 heures, 43 minutes et 12 secondes.\n",
    "\n",
    "Implémenter la fonction `proportionTemps` puis appeler cette fonction en échangeant l'ordre des arguments mais en les nommant."
   ]
  },
  {
   "cell_type": "code",
   "execution_count": 6,
   "metadata": {},
   "outputs": [
    {
     "name": "stdout",
     "output_type": "stream",
     "text": [
      "9 heures 43 minutes 12 secondes "
     ]
    }
   ],
   "source": [
    "def proportionTemps(temps,proportion):\n",
    "    temps=tempsEnSeconde(temps)\n",
    "    temps=temps*proportion\n",
    "    temps=secondeEnTemps(temps)\n",
    "    return temps\n",
    "\n",
    "#appeler la fonction en échangeant l'ordre des arguments\n",
    "afficheTemps(proportionTemps(proportion=0.2,temps=(2,0,36,0)))\n"
   ]
  },
  {
   "cell_type": "markdown",
   "metadata": {},
   "source": [
    "On veut maintenant afficher un temps sous forme de date, en supposant \n",
    "que le temps 0 est le 1 janvier 1970 à 00:00:00.\n",
    "\n",
    "* Implémenter une fonction `tempsEnDate`qui donne la date sous la forme (année, jour, heure, minute, seconde).\n",
    "* Implémenter la fonction `afficheDate`qui affiche la date. \n",
    "* (Optionnel) Gérer également les mois."
   ]
  },
  {
   "cell_type": "code",
   "execution_count": 10,
   "metadata": {},
   "outputs": [
    {
     "name": "stdout",
     "output_type": "stream",
     "text": [
      "11574 jours 1 heure 46 minutes 40 secondes jour 260 de l'annee 2001 à :  1 : 46 : 40\n"
     ]
    }
   ],
   "source": [
    "import time\n",
    "def tempsEnDate(temps):\n",
    "    annee = 1970 + temps[0]//365\n",
    "    num_jour = 1 + temps[0]%365\n",
    "    return(annee, num_jour, temps[1], temps[2], temps[3])\n",
    "\n",
    "def afficheDate(date = -1):\n",
    "    if date == -1:\n",
    "        date=tempsEnDate(secondeEnTemps(int(time.time())))\n",
    "    print(\"jour\", date[1], \"de l'annee\", date[0], \"à : \", date[2], \":\", date[3], \":\", date[4])\n",
    "    \n",
    "temps = secondeEnTemps(1000000000)\n",
    "afficheTemps(temps)\n",
    "afficheDate(tempsEnDate(temps))\n",
    "#afficheDate()"
   ]
  },
  {
   "cell_type": "markdown",
   "metadata": {},
   "source": [
    "Il existe des fonctions dans la librairie `time` pour la gestion du temps. En particulier, il existe\n",
    "une fonction `time` qui donne le temps écoulé depuis 1970 en secondes. \n",
    "La trouver avec la [documentation python](https://docs.python.org/fr/3/library/time.html#module-time) et la tester en utilisant `afficheDate`. \n",
    "Tester de la même manière la fonction `time.gmtime` qui réalise une tâche similaire à `tempsEnDate`.\n",
    "Que constatez vous ?"
   ]
  },
  {
   "cell_type": "code",
   "execution_count": 6,
   "metadata": {},
   "outputs": [],
   "source": [
    "#tester ici les fonctions de la librairie time"
   ]
  },
  {
   "cell_type": "markdown",
   "metadata": {},
   "source": [
    "Attention, tous les 4 ans les années sont bisextiles (un jour de plus) sauf les multiples de 100 qui ne sont pas des multiples de 400.\n",
    "Donner un code qui prend un nombre de jours et affiche toutes les années bisextiles depuis le 1er janvier 1970 à 00:00:00 jusqu'à la fin de ces jours."
   ]
  },
  {
   "cell_type": "code",
   "execution_count": 11,
   "metadata": {},
   "outputs": [
    {
     "name": "stdout",
     "output_type": "stream",
     "text": [
      "1972\n",
      "1976\n",
      "1980\n",
      "1984\n",
      "1988\n",
      "1992\n",
      "1996\n",
      "2000\n",
      "2004\n",
      "2008\n",
      "2012\n",
      "2016\n",
      "2020\n"
     ]
    }
   ],
   "source": [
    "def estBisextile(annee):\n",
    "    if(annee%4==0) and (annee%100!=0) or (annee%400==0):\n",
    "        return True\n",
    "    else:\n",
    "        return False\n",
    "\n",
    "def bisextile(jour):\n",
    "    annee = 1970\n",
    "    while(jour>=365):\n",
    "        if estBisextile(annee):\n",
    "            print(annee)\n",
    "            jour=jour-366\n",
    "        else:\n",
    "            jour=jour-365\n",
    "        annee+=1\n",
    "\n",
    "bisextile(20000)"
   ]
  },
  {
   "cell_type": "markdown",
   "metadata": {},
   "source": [
    "Implémenter une fonction `nombreBisextile` qui calcule le nombre d'années bisextiles entre le 1er janvier 1970 et le nombre de jour donnés.\n",
    "Utilisez-la pour implémenter une fonction `tempsEnDateBisextile` qui fait la même chose que `tempsEnDate` mais en prenant en compte les années bisextiles."
   ]
  },
  {
   "cell_type": "code",
   "execution_count": null,
   "metadata": {},
   "outputs": [],
   "source": [
    "def nombreBisextile(jour):\n",
    "    pass\n",
    "\n",
    "def tempsEnDateBisextile(temps):\n",
    "    pass\n",
    "   \n",
    "temps = secondeEnTemps(1000000000)\n",
    "afficheTemps(temps)\n",
    "afficheDate(tempsEnDateBisextile(temps))"
   ]
  },
  {
   "cell_type": "markdown",
   "metadata": {},
   "source": [
    "Ajouter des valeurs par défaut dans le code de `afficheDate` afin de pouvoir ommettre\n",
    "l'argument de ces fonctions. Dans ce cas là, on affichera la date actuelle en utilisant la fonction `time`."
   ]
  },
  {
   "cell_type": "markdown",
   "metadata": {},
   "source": [
    "On va maintenant inspecter notre code pour améliorer sa qualité:\n",
    "\n",
    "* Regarder tous les warnings donnés par flake8 et essayer de les régler.\n",
    "* Utiliser le debugger (F5) pour étudier le fonctionnement de votre fonction nombreBisextile.\n",
    "* Mettre les annotations de type des arguments et du retour de la fonction pour nombreBisextile et une autre fonction de votre choix. Vérifier avec mypy que tout fonctionne bien."
   ]
  },
  {
   "cell_type": "markdown",
   "metadata": {},
   "source": [
    "Donner une fonction qui vérifie la charge horaire d'un employé, donnée sous forme d'une liste de temps travaillé chaque semaine dans un mois. Il ne faut pas dépasser 48h par semaine et 140h par mois (qu'on considère ici de 4 semaines).\n",
    "\n",
    "(Optionnel) S'adapter à une liste qui peut contenir plusieurs mois."
   ]
  },
  {
   "cell_type": "code",
   "execution_count": null,
   "metadata": {},
   "outputs": [],
   "source": [
    "def verifie(liste_temps):\n",
    "    pass\n",
    "\n",
    "\n",
    "liste_temps = [[1,2,39,34],[0,1,9,4],[0,29,39,51],[0,31,13,46]]\n",
    "verifie(liste_temps)"
   ]
  }
 ],
 "metadata": {
  "kernelspec": {
   "display_name": "Python 3",
   "language": "python",
   "name": "python3"
  },
  "language_info": {
   "codemirror_mode": {
    "name": "ipython",
    "version": 3
   },
   "file_extension": ".py",
   "mimetype": "text/x-python",
   "name": "python",
   "nbconvert_exporter": "python",
   "pygments_lexer": "ipython3",
   "version": "3.11.4"
  }
 },
 "nbformat": 4,
 "nbformat_minor": 4
}
