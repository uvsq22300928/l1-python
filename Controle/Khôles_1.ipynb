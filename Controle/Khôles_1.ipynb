{
 "cells": [
  {
   "cell_type": "code",
   "execution_count": 1,
   "metadata": {},
   "outputs": [
    {
     "name": "stdout",
     "output_type": "stream",
     "text": [
      "4\n"
     ]
    }
   ],
   "source": [
    "#exercice 1\n",
    "\n",
    "\"le programme affiche le nombre de caractère dans la variable 'a', soit 4\""
   ]
  },
  {
   "cell_type": "code",
   "execution_count": 22,
   "metadata": {},
   "outputs": [
    {
     "name": "stdout",
     "output_type": "stream",
     "text": [
      "surcharge ! \n"
     ]
    }
   ],
   "source": [
    "#exercice 2\n",
    "\n",
    "imperial = bool(input(\"En qu'elle unité ? (Kg : False)/(pounds : True) \"))\n",
    "poids = int(input(\"Ecrire un poids ? \"))\n",
    "\n",
    "if (imperial == True) and (poids >= 2200) :\n",
    "    print(\"surcharge ! \")\n",
    "elif (imperial == False) and (poids >= 1000) :\n",
    "    print(\"surcharge !\")\n",
    "else :\n",
    "    print(\"OK !\")"
   ]
  },
  {
   "cell_type": "code",
   "execution_count": null,
   "metadata": {},
   "outputs": [],
   "source": [
    "#exercice 3\n",
    "import random\n",
    "a = random.randint(0,99)\n",
    "valeur_utilisateur = int(input(\"rentré une première valeur \"))\n",
    "nbr_tentative = 1\n",
    "\n",
    "while a != valeur_utilisateur :\n",
    "    if a < valeur_utilisateur:\n",
    "        print(\"a est plus petit ! \")\n",
    "        valeur_utilisateur = int(input(\"rentré une nouvelle valeur ! \"))\n",
    "        nbr_tentative += 1\n",
    "    elif a > valeur_utilisateur:\n",
    "        print(\"a est plus grand ! \")\n",
    "        valeur_utilisateur = int(input(\"rentré une nouvelle valeur ! \"))\n",
    "        nbr_tentative += 1\n",
    "print(\"bien joué vous avez trouvé le bon nombre qui était\",a,\"en\", nbr_tentative, \"essais ! \")\n"
   ]
  },
  {
   "cell_type": "code",
   "execution_count": 16,
   "metadata": {},
   "outputs": [
    {
     "name": "stdout",
     "output_type": "stream",
     "text": [
      "0\n",
      "1\n",
      "2\n",
      "3\n",
      "4\n",
      "5\n",
      "6\n",
      "7\n"
     ]
    }
   ],
   "source": [
    "for i in range(100):\n",
    "    print(i)\n",
    "    if i == 7:\n",
    "        break"
   ]
  }
 ],
 "metadata": {
  "kernelspec": {
   "display_name": "l1-python",
   "language": "python",
   "name": "python3"
  },
  "language_info": {
   "codemirror_mode": {
    "name": "ipython",
    "version": 3
   },
   "file_extension": ".py",
   "mimetype": "text/x-python",
   "name": "python",
   "nbconvert_exporter": "python",
   "pygments_lexer": "ipython3",
   "version": "3.11.4"
  }
 },
 "nbformat": 4,
 "nbformat_minor": 2
}
