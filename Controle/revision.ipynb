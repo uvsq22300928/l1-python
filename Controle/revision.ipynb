{
 "cells": [
  {
   "cell_type": "markdown",
   "metadata": {},
   "source": [
    "1. A,B,C\n"
   ]
  },
  {
   "cell_type": "markdown",
   "metadata": {},
   "source": [
    "2. A;B\n"
   ]
  },
  {
   "cell_type": "markdown",
   "metadata": {},
   "source": [
    "3. C, D ----> f = lambda arg1, arg2, ... : retour de la fonction\n"
   ]
  },
  {
   "cell_type": "markdown",
   "metadata": {},
   "source": [
    "4. C"
   ]
  },
  {
   "cell_type": "markdown",
   "metadata": {},
   "source": [
    "5. C"
   ]
  },
  {
   "cell_type": "markdown",
   "metadata": {},
   "source": [
    "6. A"
   ]
  },
  {
   "cell_type": "markdown",
   "metadata": {},
   "source": [
    "7. D"
   ]
  },
  {
   "cell_type": "markdown",
   "metadata": {},
   "source": [
    "8. D"
   ]
  },
  {
   "cell_type": "markdown",
   "metadata": {},
   "source": [
    "9. C"
   ]
  },
  {
   "cell_type": "markdown",
   "metadata": {},
   "source": [
    "10. D"
   ]
  },
  {
   "cell_type": "markdown",
   "metadata": {},
   "source": [
    "11. D\n"
   ]
  },
  {
   "cell_type": "markdown",
   "metadata": {},
   "source": [
    "12. C"
   ]
  },
  {
   "cell_type": "markdown",
   "metadata": {},
   "source": [
    "13. C"
   ]
  },
  {
   "cell_type": "markdown",
   "metadata": {},
   "source": [
    "14. A"
   ]
  },
  {
   "cell_type": "markdown",
   "metadata": {},
   "source": [
    "15. C"
   ]
  },
  {
   "cell_type": "markdown",
   "metadata": {},
   "source": [
    "16. B"
   ]
  },
  {
   "cell_type": "markdown",
   "metadata": {},
   "source": [
    "17. C"
   ]
  },
  {
   "cell_type": "markdown",
   "metadata": {},
   "source": [
    "18. B"
   ]
  },
  {
   "cell_type": "markdown",
   "metadata": {},
   "source": [
    "19. D"
   ]
  }
 ],
 "metadata": {
  "kernelspec": {
   "display_name": "l1-python",
   "language": "python",
   "name": "python3"
  },
  "language_info": {
   "codemirror_mode": {
    "name": "ipython",
    "version": 3
   },
   "file_extension": ".py",
   "mimetype": "text/x-python",
   "name": "python",
   "nbconvert_exporter": "python",
   "pygments_lexer": "ipython3",
   "version": "3.11.4"
  }
 },
 "nbformat": 4,
 "nbformat_minor": 2
}
