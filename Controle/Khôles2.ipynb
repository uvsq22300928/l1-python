{
 "cells": [
  {
   "cell_type": "code",
   "execution_count": 171,
   "metadata": {},
   "outputs": [
    {
     "name": "stdout",
     "output_type": "stream",
     "text": [
      "[6, 5, 4, 3, 2, 1]\n"
     ]
    }
   ],
   "source": [
    "def inverse(liste=list):\n",
    "    listeInverse = []\n",
    "    for i in range(1,len(liste)+1):\n",
    "        listeInverse.append(liste[-i])\n",
    "    return listeInverse\n",
    "print(inverse([1,2,3,4,5,6]))"
   ]
  },
  {
   "cell_type": "code",
   "execution_count": 261,
   "metadata": {},
   "outputs": [
    {
     "name": "stdout",
     "output_type": "stream",
     "text": [
      "[0, 0, 0, 0, 0, 0, 0]\n",
      "[0, 0, 1, 0, 0, 0, 0]\n",
      "[0, 0, 0, 0, 0, 0, 0]\n",
      "[0, 0, 0, 0, 0, 0, 0]\n",
      "[0, 0, 0, 0, 0, 0, 0]\n",
      "[0, 0, 0, 0, 0, 0, 0]\n",
      "[0, 0, 0, 0, 0, 0, 0]\n",
      "None\n",
      "[0, 0, 0, 0, 0, 0, 0]\n",
      "[0, 0, 0, 0, 0, 0, 0]\n",
      "[0, 0, 0, 0, 0, 0, 0]\n",
      "[0, 0, 0, 0, 0, 0, 0]\n",
      "[0, 0, 1, 0, 0, 0, 0]\n",
      "[0, 0, 0, 0, 0, 0, 0]\n",
      "[0, 0, 0, 0, 0, 0, 0]\n",
      "\n",
      "[0, 0, 0, 0, 0, 0, 0]\n",
      "[0, 0, 0, 0, 0, 0, 0]\n",
      "[0, 0, 0, 0, 0, 0, 0]\n",
      "[0, 0, 0, 0, 0, 0, 0]\n",
      "[0, 0, 0, 0, 0, 0, 0]\n",
      "[0, 0, 1, 0, 0, 0, 0]\n",
      "[0, 0, 0, 0, 0, 0, 0]\n",
      "\n",
      "None\n"
     ]
    }
   ],
   "source": [
    "import random\n",
    "\n",
    "def positionAléatoireDiagonale(liste=list):\n",
    "\n",
    "    positionGliste = random.randint(0,6)\n",
    "    positionPliste = random.randint(0,6)\n",
    "    liste[positionGliste][positionPliste] = 1\n",
    "\n",
    "    for i in range(len(liste)):\n",
    "        print(liste[i])\n",
    "    \n",
    "def positionAléatoireGbdh(liste=list):\n",
    "    choix = random.randint(0,3)\n",
    "    positionGliste = random.randint(0,5)\n",
    "    positionPliste = random.randint(0,5)\n",
    "\n",
    "    liste[positionGliste][positionPliste] = 1\n",
    "\n",
    "    for i in range(len(liste)):\n",
    "        print(liste[i])\n",
    "    print()\n",
    "\n",
    "    liste[positionGliste][positionPliste] = 0\n",
    "\n",
    "    if choix == 0:\n",
    "        liste[positionGliste][positionPliste-1] = 1\n",
    "        for i in range(len(liste)):\n",
    "            print(liste[i])\n",
    "        print()\n",
    "    elif choix == 1:\n",
    "        liste[positionGliste+1][positionPliste] = 1\n",
    "        for i in range(len(liste)):\n",
    "            print(liste[i])\n",
    "        print()\n",
    "    elif choix == 2:\n",
    "        liste[positionGliste][positionPliste+1] = 1\n",
    "        for i in range(len(liste)):\n",
    "            print(liste[i])\n",
    "        print()\n",
    "    else :\n",
    "        liste[positionGliste-1][positionPliste] = 1\n",
    "        for i in range(len(liste)):\n",
    "            print(liste[i])\n",
    "        print()\n",
    "\n",
    "\n",
    "print(positionAléatoireDiagonale([[0,0,0,0,0,0,0],[0,0,0,0,0,0,0],[0,0,0,0,0,0,0],[0,0,0,0,0,0,0],[0,0,0,0,0,0,0],[0,0,0,0,0,0,0],[0,0,0,0,0,0,0]]))\n",
    "print(positionAléatoireGbdh([[0,0,0,0,0,0,0],[0,0,0,0,0,0,0],[0,0,0,0,0,0,0],[0,0,0,0,0,0,0],[0,0,0,0,0,0,0],[0,0,0,0,0,0,0],[0,0,0,0,0,0,0]]))"
   ]
  }
 ],
 "metadata": {
  "kernelspec": {
   "display_name": "l1-python",
   "language": "python",
   "name": "python3"
  },
  "language_info": {
   "codemirror_mode": {
    "name": "ipython",
    "version": 3
   },
   "file_extension": ".py",
   "mimetype": "text/x-python",
   "name": "python",
   "nbconvert_exporter": "python",
   "pygments_lexer": "ipython3",
   "version": "3.11.4"
  }
 },
 "nbformat": 4,
 "nbformat_minor": 2
}
